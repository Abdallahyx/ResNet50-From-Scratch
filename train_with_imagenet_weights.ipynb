{
  "nbformat": 4,
  "nbformat_minor": 0,
  "metadata": {
    "colab": {
      "provenance": [],
      "collapsed_sections": [],
      "include_colab_link": true
    },
    "kernelspec": {
      "name": "python3",
      "display_name": "Python 3"
    },
    "language_info": {
      "name": "python"
    },
    "accelerator": "GPU"
  },
  "cells": [
    {
      "cell_type": "markdown",
      "metadata": {
        "id": "view-in-github",
        "colab_type": "text"
      },
      "source": [
        "<a href=\"https://colab.research.google.com/github/Abdallahyx/ResNet50-From-Scratch/blob/main/train_with_imagenet_weights.ipynb\" target=\"_parent\"><img src=\"https://colab.research.google.com/assets/colab-badge.svg\" alt=\"Open In Colab\"/></a>"
      ]
    },
    {
      "cell_type": "code",
      "source": [
        "!git clone https://github.com/Abdallahyx/ResNet50-From-Scratch.git"
      ],
      "metadata": {
        "id": "-yGgnj6ZQAMH"
      },
      "execution_count": null,
      "outputs": []
    },
    {
      "cell_type": "code",
      "source": [
        "%cd ResNet50-From-Scratch/"
      ],
      "metadata": {
        "colab": {
          "base_uri": "https://localhost:8080/"
        },
        "id": "xMiUQB33QEar",
        "outputId": "d39b45db-96bc-4bad-c643-74d387ec7603"
      },
      "execution_count": 2,
      "outputs": [
        {
          "output_type": "stream",
          "name": "stdout",
          "text": [
            "/content/ResNet50-From-Scratch\n"
          ]
        }
      ]
    },
    {
      "cell_type": "code",
      "source": [
        "!ls"
      ],
      "metadata": {
        "colab": {
          "base_uri": "https://localhost:8080/"
        },
        "id": "8DFqDqVmQII0",
        "outputId": "de2b5512-ccf7-43c6-a7ec-faf8f5a19de7"
      },
      "execution_count": 3,
      "outputs": [
        {
          "output_type": "stream",
          "name": "stdout",
          "text": [
            "blocks.py\t kaggle.json  __pycache__  resnet50.py\ttraining_set\n",
            "cat-and-dog.zip  LICENSE      README.md    test_set\ttrain.ipynb\n"
          ]
        }
      ]
    },
    {
      "cell_type": "markdown",
      "source": [
        "## **Import Packages**"
      ],
      "metadata": {
        "id": "x6rH45oRFiP6"
      }
    },
    {
      "cell_type": "code",
      "source": [
        "import matplotlib.pyplot as plt\n",
        "import tensorflow as tf\n",
        "import numpy as np"
      ],
      "metadata": {
        "id": "SSN-HyYd_wGO"
      },
      "execution_count": 4,
      "outputs": []
    },
    {
      "cell_type": "markdown",
      "source": [
        "## **Download The Dataset**\n"
      ],
      "metadata": {
        "id": "Jo5mTvmeyQMf"
      }
    },
    {
      "cell_type": "code",
      "source": [
        "# upload kaggle JSON file\n",
        "!mkdir -p ~/.kaggle\n",
        "!cp kaggle.json ~/.kaggle/\n",
        "!chmod 600 ~/.kaggle/kaggle.json"
      ],
      "metadata": {
        "id": "PIp3S3ZTs8hL"
      },
      "execution_count": 5,
      "outputs": []
    },
    {
      "cell_type": "code",
      "source": [
        "!kaggle datasets download -d tongpython/cat-and-dog"
      ],
      "metadata": {
        "id": "IPyQL2Gbt8qr"
      },
      "execution_count": null,
      "outputs": []
    },
    {
      "cell_type": "code",
      "source": [
        "!unzip cat-and-dog.zip"
      ],
      "metadata": {
        "id": "d9-4I8_DuCrr"
      },
      "execution_count": null,
      "outputs": []
    },
    {
      "cell_type": "markdown",
      "source": [
        "## **Data Pre-processing**"
      ],
      "metadata": {
        "id": "BytrJMG1ymWw"
      }
    },
    {
      "cell_type": "code",
      "source": [
        "from tensorflow.keras.preprocessing.image import ImageDataGenerator\n",
        "\n",
        "traindir = '/content/ResNet50-From-Scratch/training_set/training_set'\n",
        "testdir = '/content/ResNet50-From-Scratch/test_set/test_set'\n",
        "\n",
        "train_datagen = ImageDataGenerator(rescale=1./255)\n",
        "test_datagen = ImageDataGenerator(rescale=1./255)\n",
        "\n",
        "train_generator = train_datagen.flow_from_directory(\n",
        "        traindir,  # This is the source directory for training images\n",
        "        target_size=(150, 150),  # All images will be resized to 150x150\n",
        "        batch_size = 64,\n",
        "        class_mode='binary')\n",
        "\n",
        "test_generator = test_datagen.flow_from_directory(\n",
        "        testdir,\n",
        "        target_size=(150, 150),\n",
        "        batch_size = 64,\n",
        "        class_mode='binary')"
      ],
      "metadata": {
        "colab": {
          "base_uri": "https://localhost:8080/"
        },
        "id": "lOkyge2lu_I4",
        "outputId": "e22ebe7a-5ffc-4c93-927a-609e4112308a"
      },
      "execution_count": 6,
      "outputs": [
        {
          "output_type": "stream",
          "name": "stdout",
          "text": [
            "Found 8005 images belonging to 2 classes.\n",
            "Found 2023 images belonging to 2 classes.\n"
          ]
        }
      ]
    },
    {
      "cell_type": "markdown",
      "source": [
        "## **Import ResNet50 Model**"
      ],
      "metadata": {
        "id": "Eyj6bbQXFpUa"
      }
    },
    {
      "cell_type": "code",
      "source": [
        "from resnet50 import ResNet50\n",
        "\n",
        "model = ResNet50(input_shape = (150,150,3), include_top=False, weights='imagenet')"
      ],
      "metadata": {
        "id": "R3R8GtCEzuJd"
      },
      "execution_count": 7,
      "outputs": []
    },
    {
      "cell_type": "code",
      "source": [
        "model.summary()"
      ],
      "metadata": {
        "id": "NCUpisPfXy03"
      },
      "execution_count": null,
      "outputs": []
    },
    {
      "cell_type": "code",
      "source": [
        "last_layer = model.get_layer('average_pooling2d')"
      ],
      "metadata": {
        "id": "vvF_gyikfiCf"
      },
      "execution_count": 9,
      "outputs": []
    },
    {
      "cell_type": "code",
      "source": [
        "x = tf.keras.layers.Flatten()(last_layer.output)\n",
        "x = tf.keras.layers.Dense(1,activation = 'sigmoid')(x)\n",
        "\n",
        "new_model = tf.keras.Model(model.input,x)"
      ],
      "metadata": {
        "id": "ePIIHbtitIdw"
      },
      "execution_count": 10,
      "outputs": []
    },
    {
      "cell_type": "code",
      "source": [
        "new_model.summary()"
      ],
      "metadata": {
        "id": "hKo6mIQ30PLP"
      },
      "execution_count": null,
      "outputs": []
    },
    {
      "cell_type": "code",
      "source": [
        "new_model.compile(optimizer = 'adam', loss = tf.keras.losses.BinaryCrossentropy(), metrics=['accuracy'])"
      ],
      "metadata": {
        "id": "sXjjLZhE0YHN"
      },
      "execution_count": 12,
      "outputs": []
    },
    {
      "cell_type": "markdown",
      "source": [
        "### **Train The Model**"
      ],
      "metadata": {
        "id": "vKNLZZIYFyFg"
      }
    },
    {
      "cell_type": "code",
      "source": [
        "history = new_model.fit(train_generator, epochs = 5, validation_data = test_generator)  "
      ],
      "metadata": {
        "id": "auaKKYkM1a0G",
        "colab": {
          "base_uri": "https://localhost:8080/"
        },
        "outputId": "b10a0b7d-5f38-4193-e655-f39829f16d6b"
      },
      "execution_count": 13,
      "outputs": [
        {
          "output_type": "stream",
          "name": "stdout",
          "text": [
            "Epoch 1/5\n",
            "126/126 [==============================] - 66s 437ms/step - loss: 0.5446 - accuracy: 0.7948 - val_loss: 0.3297 - val_accuracy: 0.8532\n",
            "Epoch 2/5\n",
            "126/126 [==============================] - 53s 416ms/step - loss: 0.2121 - accuracy: 0.9111 - val_loss: 0.1889 - val_accuracy: 0.9263\n",
            "Epoch 3/5\n",
            "126/126 [==============================] - 53s 420ms/step - loss: 0.1334 - accuracy: 0.9492 - val_loss: 0.2458 - val_accuracy: 0.8927\n",
            "Epoch 4/5\n",
            "126/126 [==============================] - 53s 417ms/step - loss: 0.1049 - accuracy: 0.9601 - val_loss: 0.1862 - val_accuracy: 0.9273\n",
            "Epoch 5/5\n",
            "126/126 [==============================] - 53s 417ms/step - loss: 0.0822 - accuracy: 0.9690 - val_loss: 0.1674 - val_accuracy: 0.9338\n"
          ]
        }
      ]
    },
    {
      "cell_type": "markdown",
      "source": [
        "### **Plot The Accuracy**"
      ],
      "metadata": {
        "id": "LKI6OynPGJrA"
      }
    },
    {
      "cell_type": "code",
      "source": [
        "new_model.evaluate(test_generator)"
      ],
      "metadata": {
        "colab": {
          "base_uri": "https://localhost:8080/"
        },
        "id": "0t18uP25xJjs",
        "outputId": "b5be46ca-97e4-4508-b6fa-a37e02009731"
      },
      "execution_count": 14,
      "outputs": [
        {
          "output_type": "stream",
          "name": "stdout",
          "text": [
            "32/32 [==============================] - 10s 297ms/step - loss: 0.1605 - accuracy: 0.9372\n"
          ]
        },
        {
          "output_type": "execute_result",
          "data": {
            "text/plain": [
              "[0.16048738360404968, 0.9372219443321228]"
            ]
          },
          "metadata": {},
          "execution_count": 14
        }
      ]
    },
    {
      "cell_type": "code",
      "source": [
        "plt.plot(history.history['accuracy'], label='accuracy')\n",
        "plt.plot(history.history['val_accuracy'], label = 'val_accuracy')\n",
        "plt.xlabel('Epoch')\n",
        "plt.ylabel('Accuracy')\n",
        "plt.ylim([0, 1])\n",
        "plt.legend(loc='lower right')"
      ],
      "metadata": {
        "colab": {
          "base_uri": "https://localhost:8080/",
          "height": 300
        },
        "id": "qwTvQ1M64fUg",
        "outputId": "0f532c9f-75e8-45d8-b19d-093593c3fd10"
      },
      "execution_count": 15,
      "outputs": [
        {
          "output_type": "execute_result",
          "data": {
            "text/plain": [
              "<matplotlib.legend.Legend at 0x7f32ee47c750>"
            ]
          },
          "metadata": {},
          "execution_count": 15
        },
        {
          "output_type": "display_data",
          "data": {
            "text/plain": [
              "<Figure size 432x288 with 1 Axes>"
            ],
            "image/png": "[encoded data removed]"
          },
          "metadata": {
            "needs_background": "light"
          }
        }
      ]
    }
  ]
}